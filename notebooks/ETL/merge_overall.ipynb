{
 "cells": [
  {
   "cell_type": "markdown",
   "metadata": {},
   "source": [
    "# Importamos las librerias a utlizar"
   ]
  },
  {
   "cell_type": "code",
   "execution_count": 1,
   "metadata": {},
   "outputs": [],
   "source": [
    "import pandas as pd"
   ]
  },
  {
   "cell_type": "code",
   "execution_count": 2,
   "metadata": {},
   "outputs": [],
   "source": [
    "google = pd.read_parquet(\"../../Datasets/merge/google_states_reviews\") # Archivo que contiene la unificacion de las reviews y lugares de Google ETL/googleMerged.ipynb\n",
    "yelp = pd.read_parquet(\"../../Datasets/business_reviews.parquet\") # Archivo que contiene la unificacion de las reviews y lugares de Yelp ETL/yelpMerged.ipynb"
   ]
  },
  {
   "cell_type": "markdown",
   "metadata": {},
   "source": [
    "- Observamos la estructura de los datos."
   ]
  },
  {
   "cell_type": "code",
   "execution_count": 3,
   "metadata": {},
   "outputs": [
    {
     "data": {
      "text/html": [
       "<div>\n",
       "<style scoped>\n",
       "    .dataframe tbody tr th:only-of-type {\n",
       "        vertical-align: middle;\n",
       "    }\n",
       "\n",
       "    .dataframe tbody tr th {\n",
       "        vertical-align: top;\n",
       "    }\n",
       "\n",
       "    .dataframe thead th {\n",
       "        text-align: right;\n",
       "    }\n",
       "</style>\n",
       "<table border=\"1\" class=\"dataframe\">\n",
       "  <thead>\n",
       "    <tr style=\"text-align: right;\">\n",
       "      <th></th>\n",
       "      <th>business_id</th>\n",
       "      <th>name</th>\n",
       "      <th>address</th>\n",
       "      <th>city</th>\n",
       "      <th>state</th>\n",
       "      <th>latitude</th>\n",
       "      <th>longitude</th>\n",
       "      <th>stars_mean</th>\n",
       "      <th>review_count</th>\n",
       "      <th>categories</th>\n",
       "      <th>review_id</th>\n",
       "      <th>user_id</th>\n",
       "      <th>stars_review</th>\n",
       "      <th>text</th>\n",
       "      <th>date</th>\n",
       "      <th>main_category</th>\n",
       "    </tr>\n",
       "  </thead>\n",
       "  <tbody>\n",
       "    <tr>\n",
       "      <th>1137360</th>\n",
       "      <td>JTh3iKFWVLvGLpz6WO01yg</td>\n",
       "      <td>Art &amp; Eyes</td>\n",
       "      <td>3708 Magazine St</td>\n",
       "      <td>New Orleans</td>\n",
       "      <td>Louisiana</td>\n",
       "      <td>29.921413</td>\n",
       "      <td>-90.093533</td>\n",
       "      <td>4.5</td>\n",
       "      <td>25</td>\n",
       "      <td>Optometrists, Eyewear &amp; Opticians, Health &amp; Me...</td>\n",
       "      <td>QGBJSSqj4SlDO4VS_nJLJA</td>\n",
       "      <td>9nrksUXC26l88aZpwpAg2g</td>\n",
       "      <td>5.0</td>\n",
       "      <td>My husband and I had been all over town trying...</td>\n",
       "      <td>2019-02-03</td>\n",
       "      <td>Shopping Mall</td>\n",
       "    </tr>\n",
       "  </tbody>\n",
       "</table>\n",
       "</div>"
      ],
      "text/plain": [
       "                    business_id        name           address         city  \\\n",
       "1137360  JTh3iKFWVLvGLpz6WO01yg  Art & Eyes  3708 Magazine St  New Orleans   \n",
       "\n",
       "             state   latitude  longitude  stars_mean  review_count  \\\n",
       "1137360  Louisiana  29.921413 -90.093533         4.5            25   \n",
       "\n",
       "                                                categories  \\\n",
       "1137360  Optometrists, Eyewear & Opticians, Health & Me...   \n",
       "\n",
       "                      review_id                 user_id  stars_review  \\\n",
       "1137360  QGBJSSqj4SlDO4VS_nJLJA  9nrksUXC26l88aZpwpAg2g           5.0   \n",
       "\n",
       "                                                      text        date  \\\n",
       "1137360  My husband and I had been all over town trying...  2019-02-03   \n",
       "\n",
       "         main_category  \n",
       "1137360  Shopping Mall  "
      ]
     },
     "execution_count": 3,
     "metadata": {},
     "output_type": "execute_result"
    }
   ],
   "source": [
    "yelp.sample()"
   ]
  },
  {
   "cell_type": "code",
   "execution_count": 4,
   "metadata": {},
   "outputs": [
    {
     "data": {
      "text/html": [
       "<div>\n",
       "<style scoped>\n",
       "    .dataframe tbody tr th:only-of-type {\n",
       "        vertical-align: middle;\n",
       "    }\n",
       "\n",
       "    .dataframe tbody tr th {\n",
       "        vertical-align: top;\n",
       "    }\n",
       "\n",
       "    .dataframe thead th {\n",
       "        text-align: right;\n",
       "    }\n",
       "</style>\n",
       "<table border=\"1\" class=\"dataframe\">\n",
       "  <thead>\n",
       "    <tr style=\"text-align: right;\">\n",
       "      <th></th>\n",
       "      <th>user_id</th>\n",
       "      <th>rating</th>\n",
       "      <th>text</th>\n",
       "      <th>gmap_id</th>\n",
       "      <th>date</th>\n",
       "      <th>name</th>\n",
       "      <th>address</th>\n",
       "      <th>latitude</th>\n",
       "      <th>longitude</th>\n",
       "      <th>category</th>\n",
       "      <th>avg_rating</th>\n",
       "      <th>num_of_reviews</th>\n",
       "      <th>state</th>\n",
       "      <th>main_category</th>\n",
       "      <th>city</th>\n",
       "    </tr>\n",
       "  </thead>\n",
       "  <tbody>\n",
       "    <tr>\n",
       "      <th>627834</th>\n",
       "      <td>1.075258e+20</td>\n",
       "      <td>4</td>\n",
       "      <td>None</td>\n",
       "      <td>0x8815e31016cd0251:0xdf0d718ae5eb91fd</td>\n",
       "      <td>2020-02-20</td>\n",
       "      <td>Walmart Supercenter</td>\n",
       "      <td>Walmart Supercenter, 5311 Coldwater Rd, Fort W...</td>\n",
       "      <td>41.12797</td>\n",
       "      <td>-85.137889</td>\n",
       "      <td>Department store Clothing store Craft store El...</td>\n",
       "      <td>3.8</td>\n",
       "      <td>4216</td>\n",
       "      <td>Indiana</td>\n",
       "      <td>Others</td>\n",
       "      <td>Fort Wayne</td>\n",
       "    </tr>\n",
       "  </tbody>\n",
       "</table>\n",
       "</div>"
      ],
      "text/plain": [
       "             user_id  rating  text                                gmap_id  \\\n",
       "627834  1.075258e+20       4  None  0x8815e31016cd0251:0xdf0d718ae5eb91fd   \n",
       "\n",
       "              date                 name  \\\n",
       "627834  2020-02-20  Walmart Supercenter   \n",
       "\n",
       "                                                  address  latitude  \\\n",
       "627834  Walmart Supercenter, 5311 Coldwater Rd, Fort W...  41.12797   \n",
       "\n",
       "        longitude                                           category  \\\n",
       "627834 -85.137889  Department store Clothing store Craft store El...   \n",
       "\n",
       "        avg_rating  num_of_reviews    state main_category        city  \n",
       "627834         3.8            4216  Indiana        Others  Fort Wayne  "
      ]
     },
     "execution_count": 4,
     "metadata": {},
     "output_type": "execute_result"
    }
   ],
   "source": [
    "google.sample()"
   ]
  },
  {
   "cell_type": "markdown",
   "metadata": {},
   "source": [
    "### Realizamos las modificaciones correspondientes para poder unicar los <i>datasets</i>\n",
    "- Renombre y eliminación de algunas columnas"
   ]
  },
  {
   "cell_type": "code",
   "execution_count": 18,
   "metadata": {},
   "outputs": [],
   "source": [
    "yelp.drop(columns=\"review_id\",inplace=True)\n",
    "google.rename(columns={\n",
    "    \"gmap_id\" :\"business_id\",\n",
    "    \"rating\":\"stars_review\",\n",
    "    \"category\":\"categories\",\n",
    "    \"avg_rating\":\"stars_mean\",\n",
    "    \"num_of_reviews\":\"review_count\"\n",
    "} , inplace=True)"
   ]
  },
  {
   "cell_type": "code",
   "execution_count": 20,
   "metadata": {},
   "outputs": [],
   "source": [
    "google = google[[\"business_id\",\"name\",\"address\",\"city\",\"state\",\"latitude\",\"longitude\",\"stars_mean\",\"review_count\",\"categories\",\"user_id\",\"stars_review\",\"text\",\"date\",\"main_category\"]]"
   ]
  },
  {
   "cell_type": "markdown",
   "metadata": {},
   "source": [
    "### <i>Concatenamos</i> los datos"
   ]
  },
  {
   "cell_type": "code",
   "execution_count": 23,
   "metadata": {},
   "outputs": [],
   "source": [
    "google_yelp = pd.concat([yelp,google])"
   ]
  },
  {
   "cell_type": "markdown",
   "metadata": {},
   "source": [
    "- Observamos el estado de los datos"
   ]
  },
  {
   "cell_type": "code",
   "execution_count": 36,
   "metadata": {},
   "outputs": [
    {
     "data": {
      "text/plain": [
       "business_id           0\n",
       "name                  0\n",
       "address            3995\n",
       "city              56862\n",
       "state                 0\n",
       "latitude              0\n",
       "longitude             0\n",
       "stars_mean            0\n",
       "review_count          0\n",
       "categories            0\n",
       "user_id               0\n",
       "stars_review          0\n",
       "text             774098\n",
       "date                  0\n",
       "main_category         0\n",
       "dtype: int64"
      ]
     },
     "execution_count": 36,
     "metadata": {},
     "output_type": "execute_result"
    }
   ],
   "source": [
    "google_yelp.isna().sum()"
   ]
  },
  {
   "cell_type": "markdown",
   "metadata": {},
   "source": [
    "- Cambiamos el tipo de dato de la columna `user_id` para poder exportar todo el *dataset*"
   ]
  },
  {
   "cell_type": "code",
   "execution_count": 34,
   "metadata": {},
   "outputs": [],
   "source": [
    "google_yelp[\"user_id\"] = google_yelp[\"user_id\"].astype(str)"
   ]
  },
  {
   "cell_type": "markdown",
   "metadata": {},
   "source": [
    "### Exportamos en formato *parquet*"
   ]
  },
  {
   "cell_type": "code",
   "execution_count": 35,
   "metadata": {},
   "outputs": [],
   "source": [
    "google_yelp.to_parquet(\"../../Datasets/google_yelp.parquet\",engine=\"pyarrow\")"
   ]
  }
 ],
 "metadata": {
  "kernelspec": {
   "display_name": "Python 3",
   "language": "python",
   "name": "python3"
  },
  "language_info": {
   "codemirror_mode": {
    "name": "ipython",
    "version": 3
   },
   "file_extension": ".py",
   "mimetype": "text/x-python",
   "name": "python",
   "nbconvert_exporter": "python",
   "pygments_lexer": "ipython3",
   "version": "3.12.4"
  }
 },
 "nbformat": 4,
 "nbformat_minor": 2
}
