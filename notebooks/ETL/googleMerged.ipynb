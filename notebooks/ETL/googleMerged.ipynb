{
 "cells": [
  {
   "cell_type": "markdown",
   "metadata": {},
   "source": [
    "## Importar librerias a utilizar"
   ]
  },
  {
   "cell_type": "code",
   "execution_count": 1,
   "metadata": {},
   "outputs": [],
   "source": [
    "import pandas as pd"
   ]
  },
  {
   "cell_type": "markdown",
   "metadata": {},
   "source": [
    "## Lectura de los datos"
   ]
  },
  {
   "cell_type": "code",
   "execution_count": 14,
   "metadata": {},
   "outputs": [],
   "source": [
    "# Lectura de sitios dentro de Louisiana e Indiana (Google)\n",
    "sitios= pd.read_parquet(\"../../Datasets/final-ds/sitios_combined_full\") #Obtenido del archivo ETL/business_Google.ipynb\n",
    "\n",
    "# Reviews Indiana\n",
    "indiana= pd.read_parquet(\"../../Datasets/merge/ReviewIndiana\")  # Obtenido del archivo ETL/estados\n",
    "\n",
    "# Reviews Louisiana\n",
    "louisiana= pd.read_parquet(\"../../Datasets/merge/ReviewLouisiana\") # Obtenido del archivo ETL/estados"
   ]
  },
  {
   "cell_type": "markdown",
   "metadata": {},
   "source": [
    "- Realizamos la union de los sitios con los estados que correspondan"
   ]
  },
  {
   "cell_type": "code",
   "execution_count": 15,
   "metadata": {},
   "outputs": [],
   "source": [
    "indiana_sitios = indiana.merge(sitios,how=\"inner\",on=\"gmap_id\")\n",
    "louisiana_sitios = louisiana.merge(sitios,how=\"inner\",on=\"gmap_id\")"
   ]
  },
  {
   "cell_type": "markdown",
   "metadata": {},
   "source": [
    "- Observamos la cantidad de registros que quedaron en cada estado"
   ]
  },
  {
   "cell_type": "code",
   "execution_count": 6,
   "metadata": {},
   "outputs": [
    {
     "data": {
      "text/plain": [
       "((609940, 15), (1126351, 15))"
      ]
     },
     "execution_count": 6,
     "metadata": {},
     "output_type": "execute_result"
    }
   ],
   "source": [
    "louisiana_sitios.shape, indiana_sitios.shape"
   ]
  },
  {
   "cell_type": "markdown",
   "metadata": {},
   "source": [
    "- Chequeo de valores nulos"
   ]
  },
  {
   "cell_type": "code",
   "execution_count": 16,
   "metadata": {},
   "outputs": [
    {
     "data": {
      "text/plain": [
       "user_id                  0\n",
       "rating                   0\n",
       "text                280034\n",
       "gmap_id                  0\n",
       "date                     0\n",
       "name                     0\n",
       "address               1260\n",
       "latitude                 0\n",
       "longitude                0\n",
       "category               202\n",
       "avg_rating               0\n",
       "num_of_reviews           0\n",
       "MISC                 32058\n",
       "relative_results     13953\n",
       "url                      0\n",
       "dtype: int64"
      ]
     },
     "execution_count": 16,
     "metadata": {},
     "output_type": "execute_result"
    }
   ],
   "source": [
    "louisiana_sitios.isna().sum()"
   ]
  },
  {
   "cell_type": "code",
   "execution_count": 17,
   "metadata": {},
   "outputs": [
    {
     "data": {
      "text/plain": [
       "user_id                  0\n",
       "rating                   0\n",
       "text                494064\n",
       "gmap_id                  0\n",
       "date                     0\n",
       "name                     0\n",
       "address               2735\n",
       "latitude                 0\n",
       "longitude                0\n",
       "category               468\n",
       "avg_rating               0\n",
       "num_of_reviews           0\n",
       "MISC                 57426\n",
       "relative_results     30161\n",
       "url                      0\n",
       "dtype: int64"
      ]
     },
     "execution_count": 17,
     "metadata": {},
     "output_type": "execute_result"
    }
   ],
   "source": [
    "indiana_sitios.isna().sum()"
   ]
  },
  {
   "cell_type": "markdown",
   "metadata": {},
   "source": [
    "- Rellenamos los valores nulos de la columna `category` y la transformamos en string. Esto nos servira para el Analisis Exploratorio de Datos"
   ]
  },
  {
   "cell_type": "code",
   "execution_count": 19,
   "metadata": {},
   "outputs": [],
   "source": [
    "louisiana_sitios.fillna({\"category\":\"[]\"},inplace=True)\n",
    "indiana_sitios.fillna({\"category\":\"[]\"},inplace=True)"
   ]
  },
  {
   "cell_type": "code",
   "execution_count": 20,
   "metadata": {},
   "outputs": [],
   "source": [
    "louisiana_sitios[\"category\"] = louisiana_sitios[\"category\"].apply(lambda x: \" \".join(x) if len(x)>0 else \"\")"
   ]
  },
  {
   "cell_type": "code",
   "execution_count": 21,
   "metadata": {},
   "outputs": [],
   "source": [
    "indiana_sitios[\"category\"] = indiana_sitios[\"category\"].apply(lambda x: \" \".join(x) if len(x)>0 else \"\")"
   ]
  },
  {
   "cell_type": "code",
   "execution_count": 22,
   "metadata": {},
   "outputs": [],
   "source": [
    "hotel = louisiana_sitios[louisiana_sitios[\"category\"].str.contains(\"hotel\")]"
   ]
  },
  {
   "cell_type": "markdown",
   "metadata": {},
   "source": [
    "- Filtramos para obtener una categoria principal"
   ]
  },
  {
   "cell_type": "code",
   "execution_count": 35,
   "metadata": {},
   "outputs": [],
   "source": [
    "def checkCategory(word):\n",
    "    if \"Hotel\" in word or \"hotel\" in word:\n",
    "        return \"Hotel\"\n",
    "    elif \"Restaurant\" in word or \"restaurant\" in word:\n",
    "        return \"Restaurant\"\n",
    "    else: return \"Otros\"\n",
    "    \n",
    "louisiana_sitios[\"main_category\"] = louisiana_sitios[\"category\"].apply(checkCategory)\n",
    "indiana_sitios[\"main_category\"] = louisiana_sitios[\"category\"].apply(checkCategory)"
   ]
  },
  {
   "cell_type": "markdown",
   "metadata": {},
   "source": [
    "- Exportamos a parquet"
   ]
  },
  {
   "cell_type": "code",
   "execution_count": 36,
   "metadata": {},
   "outputs": [],
   "source": [
    "indiana_sitios.to_parquet(\"../../Datasets/merge/indiana_sitios.parquet\", engine=\"pyarrow\")\n",
    "louisiana_sitios.to_parquet(\"../../Datasets/merge/louisiana_sitios.parquet\", engine=\"pyarrow\")"
   ]
  }
 ],
 "metadata": {
  "kernelspec": {
   "display_name": "Python 3",
   "language": "python",
   "name": "python3"
  },
  "language_info": {
   "codemirror_mode": {
    "name": "ipython",
    "version": 3
   },
   "file_extension": ".py",
   "mimetype": "text/x-python",
   "name": "python",
   "nbconvert_exporter": "python",
   "pygments_lexer": "ipython3",
   "version": "3.12.3"
  }
 },
 "nbformat": 4,
 "nbformat_minor": 2
}
