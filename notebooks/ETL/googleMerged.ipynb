{
 "cells": [
  {
   "cell_type": "markdown",
   "metadata": {},
   "source": [
    "## Importar librerias a utilizar"
   ]
  },
  {
   "cell_type": "code",
   "execution_count": null,
   "metadata": {},
   "outputs": [],
   "source": [
    "import pandas as pd"
   ]
  },
  {
   "cell_type": "markdown",
   "metadata": {},
   "source": [
    "## Lectura de los datos"
   ]
  },
  {
   "cell_type": "code",
   "execution_count": 85,
   "metadata": {},
   "outputs": [],
   "source": [
    "# Lectura de sitios dentro de Louisiana e Indiana (Google)\n",
    "sitios= pd.read_parquet(\"../../Datasets/final-ds/sitios_combined_full\") #Obtenido del archivo ETL/business_Google.ipynb\n",
    "\n",
    "# Reviews Indiana\n",
    "indiana= pd.read_parquet(\"../../Datasets/merge/ReviewIndiana\")  # Obtenido del archivo ETL/estados\n",
    "\n",
    "# Reviews Louisiana\n",
    "louisiana= pd.read_parquet(\"../../Datasets/merge/ReviewLouisiana\") # Obtenido del archivo ETL/estados"
   ]
  },
  {
   "cell_type": "markdown",
   "metadata": {},
   "source": [
    "- Realizamos la union de los sitios con los estados que correspondan"
   ]
  },
  {
   "cell_type": "code",
   "execution_count": 86,
   "metadata": {},
   "outputs": [],
   "source": [
    "indiana_sitios = indiana.merge(sitios,how=\"inner\",on=\"gmap_id\")\n",
    "louisiana_sitios = louisiana.merge(sitios,how=\"inner\",on=\"gmap_id\")"
   ]
  },
  {
   "cell_type": "markdown",
   "metadata": {},
   "source": [
    "- Observamos la cantidad de registros que quedaron en cada estado"
   ]
  },
  {
   "cell_type": "code",
   "execution_count": 87,
   "metadata": {},
   "outputs": [
    {
     "data": {
      "text/plain": [
       "((609940, 12), (1126351, 12))"
      ]
     },
     "execution_count": 87,
     "metadata": {},
     "output_type": "execute_result"
    }
   ],
   "source": [
    "louisiana_sitios.shape, indiana_sitios.shape"
   ]
  },
  {
   "cell_type": "markdown",
   "metadata": {},
   "source": [
    "- Chequeo de valores nulos"
   ]
  },
  {
   "cell_type": "code",
   "execution_count": 74,
   "metadata": {},
   "outputs": [
    {
     "data": {
      "text/plain": [
       "user_id                0\n",
       "rating                 0\n",
       "text              280034\n",
       "gmap_id                0\n",
       "date                   0\n",
       "name                   0\n",
       "address             1260\n",
       "latitude               0\n",
       "longitude              0\n",
       "category             202\n",
       "avg_rating             0\n",
       "num_of_reviews         0\n",
       "dtype: int64"
      ]
     },
     "execution_count": 74,
     "metadata": {},
     "output_type": "execute_result"
    }
   ],
   "source": [
    "louisiana_sitios.isna().sum()"
   ]
  },
  {
   "cell_type": "code",
   "execution_count": 75,
   "metadata": {},
   "outputs": [
    {
     "data": {
      "text/plain": [
       "user_id                0\n",
       "rating                 0\n",
       "text              494064\n",
       "gmap_id                0\n",
       "date                   0\n",
       "name                   0\n",
       "address             2735\n",
       "latitude               0\n",
       "longitude              0\n",
       "category             468\n",
       "avg_rating             0\n",
       "num_of_reviews         0\n",
       "dtype: int64"
      ]
     },
     "execution_count": 75,
     "metadata": {},
     "output_type": "execute_result"
    }
   ],
   "source": [
    "indiana_sitios.isna().sum()"
   ]
  },
  {
   "cell_type": "markdown",
   "metadata": {},
   "source": [
    "- Pasamos de `datetime` a `date`"
   ]
  },
  {
   "cell_type": "code",
   "execution_count": 88,
   "metadata": {},
   "outputs": [],
   "source": [
    "# Louisiana\n",
    "louisiana_sitios[\"date\"] = louisiana_sitios[\"date\"].dt.strftime(\"%Y-%m-%d\").astype(\"date64[pyarrow]\")\n",
    "\n",
    "#Indiana\n",
    "indiana_sitios[\"date\"] = indiana_sitios[\"date\"].dt.strftime(\"%Y-%m-%d\").astype(\"date64[pyarrow]\")"
   ]
  },
  {
   "cell_type": "markdown",
   "metadata": {},
   "source": [
    "- Rellenamos los valores nulos de la columna `category` y la transformamos en string. Esto nos servira para el Analisis Exploratorio de Datos"
   ]
  },
  {
   "cell_type": "code",
   "execution_count": 89,
   "metadata": {},
   "outputs": [],
   "source": [
    "louisiana_sitios.fillna({\"category\":\"[]\"},inplace=True)\n",
    "indiana_sitios.fillna({\"category\":\"[]\"},inplace=True)"
   ]
  },
  {
   "cell_type": "code",
   "execution_count": 91,
   "metadata": {},
   "outputs": [],
   "source": [
    "# Transformamos a string\n",
    "louisiana_sitios[\"category\"] = louisiana_sitios[\"category\"].apply(lambda x: \" \".join(x) if len(x)>0 else \"\")"
   ]
  },
  {
   "cell_type": "code",
   "execution_count": 92,
   "metadata": {},
   "outputs": [],
   "source": [
    "indiana_sitios[\"category\"] = indiana_sitios[\"category\"].apply(lambda x: \" \".join(x) if len(x)>0 else \"\")"
   ]
  },
  {
   "cell_type": "markdown",
   "metadata": {},
   "source": [
    "- Realizamos un <i>merge</i> de las tablas para luego utilizar en la construccion de un `dashboard`"
   ]
  },
  {
   "cell_type": "code",
   "execution_count": 93,
   "metadata": {},
   "outputs": [],
   "source": [
    "# Asignamos una columna extra \"state\" para diferenciar de que estado estamos hablando\n",
    "louisiana_sitios[\"state\"] = \"Louisiana\"\n",
    "indiana_sitios[\"state\"] = \"Indiana\""
   ]
  },
  {
   "cell_type": "code",
   "execution_count": 94,
   "metadata": {},
   "outputs": [],
   "source": [
    "google_states_reviews = pd.concat([indiana_sitios,louisiana_sitios])"
   ]
  },
  {
   "cell_type": "markdown",
   "metadata": {},
   "source": [
    "- Funcion que filtra por categoria"
   ]
  },
  {
   "cell_type": "code",
   "execution_count": 127,
   "metadata": {},
   "outputs": [],
   "source": [
    "def contiene(x : str):\n",
    "    x = x.lower()\n",
    "    if \"hotel\" in x:\n",
    "        return \"Hotel\"\n",
    "    if \"restaurant\" in x:\n",
    "        return \"Restaurant\"\n",
    "    if \"bakery\" in x or \"cafe\" in x or \"café\" in x:\n",
    "        return \"Bakery-Café\"\n",
    "    if \"shopping\" in x or \"mall\" in x:\n",
    "        return \"Shopping Mall\"\n",
    "    else:\n",
    "        return \"Others\"\n"
   ]
  },
  {
   "cell_type": "code",
   "execution_count": 130,
   "metadata": {},
   "outputs": [],
   "source": [
    "google_states_reviews[\"main_category\"] = google_states_reviews[\"category\"].apply(contiene)"
   ]
  },
  {
   "cell_type": "markdown",
   "metadata": {},
   "source": [
    "- Observamos la distribucion de la columna `main_category`"
   ]
  },
  {
   "cell_type": "code",
   "execution_count": 131,
   "metadata": {},
   "outputs": [
    {
     "data": {
      "text/plain": [
       "main_category\n",
       "Others           1206845\n",
       "Restaurant        463587\n",
       "Shopping Mall      41170\n",
       "Bakery-Café        22600\n",
       "Hotel               2089\n",
       "Name: count, dtype: int64"
      ]
     },
     "execution_count": 131,
     "metadata": {},
     "output_type": "execute_result"
    }
   ],
   "source": [
    "google_states_reviews[\"main_category\"].value_counts()"
   ]
  },
  {
   "cell_type": "markdown",
   "metadata": {},
   "source": [
    "- Filtramos las ciudades"
   ]
  },
  {
   "cell_type": "code",
   "execution_count": 137,
   "metadata": {},
   "outputs": [],
   "source": [
    "cities_dict = {\n",
    "    'Louisiana': [\n",
    "        \"Abbeville\", \"Abita Springs\", \"Addis\", \"Albany\", \"Alexandria\", \"Ama\", \"Amelia\",\n",
    "        \"Amite City\", \"Anacoco\", \"Angie\", \"Arabi\", \"Arcadia\", \"Arnaudville\", \"Ashland\",\n",
    "        \"Athens\", \"Atlanta\", \"Avondale\", \"Baker\", \"Baldwin\", \"Ball\", \"Banks Springs\",\n",
    "        \"Barataria\", \"Basile\", \"Baskin\", \"Bastrop\", \"Baton Rouge\", \"Bawcomville\", \"Bayou Blue\",\n",
    "        \"Bayou Cane\", \"Bayou Country Club\", \"Bayou Gauche\", \"Bayou Goula\", \"Bayou L'Ourse\",\n",
    "        \"Bayou Vista\", \"Belcher\", \"Belle Chasse\", \"Belle Rose\", \"Belmont\", \"Benton\", \"Bernice\",\n",
    "        \"Berwick\", \"Bienville\", \"Blanchard\", \"Bogalusa\", \"Bonita\", \"Boothville\", \"Bordelonville\",\n",
    "        \"Bossier City\", \"Bourg\", \"Boutte\", \"Boyce\", \"Branch\", \"Breaux Bridge\", \"Bridge City\",\n",
    "        \"Broussard\", \"Brownfields\", \"Brownsville\", \"Brusly\", \"Bryceland\", \"Bunkie\", \"Buras\",\n",
    "        \"Cade\", \"Calhoun\", \"Calvin\", \"Cameron\", \"Campti\", \"Cankton\", \"Carencro\", \"Carlyss\",\n",
    "        \"Castor\", \"Catahoula\", \"Cecilia\", \"Center Point\", \"Central\", \"Chackbay\", \"Chalmette\",\n",
    "        \"Charenton\", \"Chataignier\", \"Chatham\", \"Chauvin\", \"Cheneyville\", \"Choctaw\", \"Choudrant\",\n",
    "        \"Church Point\", \"Claiborne\", \"Clarence\", \"Clarks\", \"Clayton\", \"Clinton\", \"Colfax\",\n",
    "        \"Collinston\", \"Columbia\", \"Convent\", \"Converse\", \"Cotton Valley\", \"Cottonport\",\n",
    "        \"Coushatta\", \"Covington\", \"Creola\", \"Crescent\", \"Crowley\", \"Cullen\", \"Cut Off\",\n",
    "        \"Delcambre\", \"Delhi\", \"Delta\", \"Denham Springs\", \"DeQuincy\", \"DeRidder\", \"Des Allemands\",\n",
    "        \"Destrehan\", \"Deville\", \"Dixie Inn\", \"Dodson\", \"Donaldsonville\", \"Downsville\", \"Doyline\",\n",
    "        \"Dry Prong\", \"Dubach\", \"Dubberly\", \"Dulac\", \"Duson\", \"East Hodge\", \"Eastwood\",\n",
    "        \"Eden Isle\", \"Edgard\", \"Edgefield\", \"Egan\", \"Elizabeth\", \"Elmwood\", \"Elton\", \"Empire\",\n",
    "        \"Epps\", \"Erath\", \"Eros\", \"Erwinville\", \"Estelle\", \"Estherwood\", \"Eunice\", \"Evergreen\",\n",
    "        \"Farmerville\", \"Fenton\", \"Ferriday\", \"Fifth Ward\", \"Fisher\", \"Florien\", \"Folsom\",\n",
    "        \"Fordoche\", \"Forest\", \"Forest Hill\", \"Fort Jesup\", \"Fort Polk North\", \"Fort Polk South\",\n",
    "        \"Franklin\", \"Franklinton\", \"French Settlement\", \"Frierson\", \"Galliano\", \"Gardere\",\n",
    "        \"Garyville\", \"Georgetown\", \"Gibsland\", \"Gilbert\", \"Gilliam\", \"Gillis\", \"Glencoe\",\n",
    "        \"Glenmora\", \"Gloster\", \"Golden Meadow\", \"Goldonna\", \"Gonzales\", \"Grambling\", \"Gramercy\",\n",
    "        \"Grand Cane\", \"Grand Coteau\", \"Grand Isle\", \"Grand Point\", \"Gray\", \"Grayson\", \"Greenwood\",\n",
    "        \"Gretna\", \"Grosse Tete\", \"Gueydan\", \"Hackberry\", \"Hahnville\", \"Hall Summit\", \"Hammond\",\n",
    "        \"Harahan\", \"Harrisonburg\", \"Harvey\", \"Haughton\", \"Hayes\", \"Haynesville\", \"Heflin\",\n",
    "        \"Henderson\", \"Hessmer\", \"Hester\", \"Hodge\", \"Homer\", \"Hornbeck\", \"Hosston\", \"Houma\",\n",
    "        \"Ida\", \"Independence\", \"Inniswold\", \"Iota\", \"Iowa\", \"Jackson\", \"Jamestown\",\n",
    "        \"Jean Lafitte\", \"Jeanerette\", \"Jefferson\", \"Jena\", \"Jennings\", \"Jonesboro\", \"Jonesville\",\n",
    "        \"Jordan Hill\", \"Joyce\", \"Junction City\", \"Kaplan\", \"Keachi\", \"Kenner\", \"Kentwood\",\n",
    "        \"Kilbourne\", \"Killian\", \"Killona\", \"Kinder\", \"Kraemer\", \"Krotz Springs\", \"Labadieville\",\n",
    "        \"Lacassine\", \"Lacombe\", \"Lafayette\", \"Lafitte\", \"Lafourche Crossing\", \"Lake Arthur\",\n",
    "        \"Lake Charles\", \"Lake Providence\", \"Lakeshore\", \"Lakeview\", \"Laplace\", \"Larose\",\n",
    "        \"Lawtell\", \"Lecompte\", \"Leesville\", \"Lemannville\", \"Leonville\", \"Lillie\", \"Lisbon\",\n",
    "        \"Livingston\", \"Livonia\", \"Lockport\", \"Lockport Heights\", \"Logansport\", \"Longstreet\",\n",
    "        \"Longville\", \"Loreauville\", \"Lucky\", \"Luling\", \"Lutcher\", \"Lydia\", \"Madisonville\",\n",
    "        \"Mamou\", \"Mandeville\", \"Mangham\", \"Mansfield\", \"Mansura\", \"Many\", \"Maringouin\",\n",
    "        \"Marion\", \"Marksville\", \"Marrero\", \"Martin\", \"Mathews\", \"Maurice\", \"McNary\", \"Melville\",\n",
    "        \"Mer Rouge\", \"Meraux\", \"Mermentau\", \"Merrydale\", \"Merryville\", \"Metairie\", \"Midway\",\n",
    "        \"Milton\", \"Minden\", \"Minorca\", \"Monroe\", \"Montegut\", \"Monterey\", \"Montgomery\",\n",
    "        \"Monticello\", \"Montpelier\", \"Montz\", \"Moonshine\", \"Mooringsport\", \"Moreauville\",\n",
    "        \"Morgan City\", \"Morganza\", \"Morse\", \"Moss Bluff\", \"Mound\", \"Mount Lebanon\",\n",
    "        \"Napoleonville\", \"Natalbany\", \"Natchez\", \"Natchitoches\", \"Nueva Iberia\", \"New Llano\",\n",
    "        \"Nueva Orleans\", \"New Roads\", \"New Sarpy\", \"Newellton\", \"Noble\", \"Norco\", \"North Hodge\",\n",
    "        \"North Vacherie\", \"Norwood\", \"Oak Grove\", \"Oak Hills Place\", \"Oak Ridge\", \"Oakdale\",\n",
    "        \"Oberlin\", \"Oil City\", \"Old Jefferson\", \"Olla\", \"Opelousas\", \"Oretta\", \"Ossun\",\n",
    "        \"Paincourtville\", \"Palmetto\", \"Paradis\", \"Parks\", \"Patterson\", \"Paulina\", \"Pearl River\",\n",
    "        \"Pierre Part\", \"Pine Prairie\", \"Pineville\", \"Pioneer\", \"Pitkin\", \"Plain Dealing\",\n",
    "        \"Plaquemine\", \"Plaucheville\", \"Pleasant Hill\", \"Pleasure Bend\", \"Point Place\",\n",
    "        \"Pointe a la Hache\", \"Pollock\", \"Ponchatoula\", \"Port Allen\", \"Port Barre\", \"Port Sulphur\",\n",
    "        \"Port Vincent\", \"Powhatan\", \"Poydras\", \"Prairieville\", \"Presquille\", \"Prien\", \"Prospect\",\n",
    "        \"Provencal\", \"Quitman\", \"Raceland\", \"Rayne\", \"Rayville\", \"Red Chute\", \"Reddell\",\n",
    "        \"Reeves\", \"Reserve\", \"Richmond\", \"Richwood\", \"Ridgecrest\", \"Ringgold\", \"River Ridge\",\n",
    "        \"Roanoke\", \"Robeline\", \"Rock Hill\", \"Rodessa\", \"Romeville\", \"Rosedale\", \"Roseland\",\n",
    "        \"Rosepine\", \"Ruston\", \"Saline\", \"Sarepta\", \"Schriever\", \"Scott\", \"Shenandoah\",\n",
    "        \"Shongaloo\", \"Shreveport\", \"Sibley\", \"Sicily Island\", \"Sikes\", \"Simmesport\", \"Simpson\",\n",
    "        \"Simsboro\", \"Singer\", \"Siracusaville\", \"Slaughter\", \"Slidell\", \"Sorrel\", \"Sorrento\",\n",
    "        \"South Mansfield\", \"South Vacherie\", \"Spearsville\", \"Spokane\", \"Springfield\",\n",
    "        \"Springhill\", \"St. Francisville\", \"St. Gabriel\", \"St. James\", \"St. Joseph\",\n",
    "        \"St. Martinville\", \"St. Maurice\", \"St. Rose\", \"Stanley\", \"Starks\", \"Start\",\n",
    "        \"Sterlington\", \"Stonewall\", \"Sugartown\", \"Sulphur\", \"Sun\", \"Sunset\", \"Supreme\",\n",
    "        \"Swartz\", \"Taft\", \"Tallulah\", \"Tangipahoa\", \"Terrytown\", \"Thibodaux\", \"Tickfaw\",\n",
    "        \"Timberlane\", \"Triumph\", \"Tullos\", \"Turkey Creek\", \"Union\", \"Urania\", \"Vacherie\",\n",
    "        \"Vidalia\", \"Ville Platte\", \"Vinton\", \"Vivian\", \"Waggaman\", \"Walnut Hill\", \"Warren\",\n",
    "        \"Washington\", \"West Baton Rouge\", \"West Monroe\", \"Westwego\", \"White Castle\",\n",
    "        \"Winnfield\", \"Woodworth\", \"Woodville\", \"Zachary\", \"Zachary\", \"Zwolle\"\n",
    "    ],\n",
    "    'Indiana' : [\n",
    "        \"Aberdeen\", \"Advance\", \"Akron\", \"Álamo\", \"Albany\", \"Albion\", \"Alexandria\",\n",
    "        \"Alfordsville\", \"Alton\", \"Altona\", \"Ambia\", \"Amboy\", \"Americus\", \"Amo\",\n",
    "        \"Anderson\", \"Andrews\", \"Angola\", \"Arcadia\", \"Argos\", \"Arlington\", \"Ashley\",\n",
    "        \"Atlanta\", \"Attica\", \"Auburn\", \"Aurora\", \"Austin\", \"Avilla\", \"Avoca\", \"Avon\",\n",
    "        \"Bainbridge\", \"Bargersville\", \"Bass Lake\", \"Batesville\", \"Battle Ground\",\n",
    "        \"Bedford\", \"Beech Grove\", \"Berne\", \"Bethany\", \"Beverly Shores\", \"Bicknell\",\n",
    "        \"Birdseye\", \"Blanford\", \"Bloomfield\", \"Bloomingdale\", \"Bloomington\", \"Blountsville\",\n",
    "        \"Bluffton\", \"Boonville\", \"Borden\", \"Boston\", \"Boswell\", \"Bourbon\", \"Brazil\",\n",
    "        \"Bremen\", \"Bright\", \"Bristol\", \"Brook\", \"Brooklyn\", \"Brooksburg\", \"Brookston\",\n",
    "        \"Brookville\", \"Brownsburg\", \"Brownstown\", \"Bruceville\", \"Bryant\", \"Buck Creek\",\n",
    "        \"Buffalo\", \"Bunker Hill\", \"Burket\", \"Burlington\", \"Burnettsville\", \"Burns City\",\n",
    "        \"Burns Harbor\", \"Butler\", \"Butlerville\", \"Cádiz\", \"Cambridge City\", \"Camden\",\n",
    "        \"Campbellsburg\", \"Canaan\", \"Cannelburg\", \"Cannelton\", \"Carbon\", \"Carlisle\",\n",
    "        \"Carmel\", \"Carthage\", \"Cayuga\", \"Cedar Grove\", \"Cedar Lake\", \"Center Point\",\n",
    "        \"Centerville\", \"Chalmers\", \"Chandler\", \"Charlestown\", \"Chesterfield\", \"Chesterton\",\n",
    "        \"Chrisney\", \"Churubusco\", \"Cicero\", \"Clarks Hill\", \"Clarksburg\", \"Clarksville\",\n",
    "        \"Clay City\", \"Claypool\", \"Clayton\", \"Clear Lake\", \"Clermont\", \"Clifford\", \"Clinton\",\n",
    "        \"Cloverdale\", \"Coalmont\", \"Coatesville\", \"Colburn\", \"Colfax\", \"Collegeville\",\n",
    "        \"Columbia City\", \"Columbus\", \"Connersville\", \"Converse\", \"Cordry Sweetwater Lakes\",\n",
    "        \"Corunna\", \"Corydon\", \"Country Club Heights\", \"Country Squire Lakes\", \"Covington\",\n",
    "        \"Crandall\", \"Crane\", \"Crawfordsville\", \"Cromwell\", \"Crothersville\", \"Crown Point\",\n",
    "        \"Crows Nest\", \"Culver\", \"Cumberland\", \"Cynthiana\", \"Dale\", \"Daleville\", \"Dana\",\n",
    "        \"Danville\", \"Darlington\", \"Darmstadt\", \"Dayton\", \"De Motte\", \"Decatur\", \"Decker\",\n",
    "        \"Delphi\", \"Denver\", \"Deputy\", \"Dillsboro\", \"Dover Hill\", \"Dresser\", \"Dublin\",\n",
    "        \"Dubois\", \"Dugger\", \"Dune Acres\", \"Dunkirk\", \"Dunlap\", \"Dunreith\", \"Dupont\",\n",
    "        \"Dyer\", \"Earl Park\", \"East Chicago\", \"East Enterprise\", \"East Germantown\", \"Eaton\",\n",
    "        \"Economy\", \"Edgewood\", \"Edinburgh\", \"Edwardsport\", \"Elberfeld\", \"Elizabeth\",\n",
    "        \"Elizabethtown\", \"Elkhart\", \"Ellettsville\", \"Elnora\", \"Elwood\", \"Emison\", \"English\",\n",
    "        \"Etna Green\", \"Evansville\", \"Fairland\", \"Fairmount\", \"Fairview Park\", \"Farmersburg\",\n",
    "        \"Farmland\", \"Ferdinand\", \"Fillmore\", \"Fish Lake\", \"Fishers\", \"Flora\", \"Florence\",\n",
    "        \"Fontanet\", \"Fort Branch\", \"Fort Wayne\", \"Fortville\", \"Fountain City\", \"Fowler\",\n",
    "        \"Fowlerton\", \"Francesville\", \"Francisco\", \"Frankfort\", \"Franklin\", \"Frankton\",\n",
    "        \"Fredericksburg\", \"Freelandville\", \"Freetown\", \"Fremont\", \"French Lick\", \"Fulton\",\n",
    "        \"Galena\", \"Galveston\", \"Garrett\", \"Gary\", \"Gas City\", \"Gaston\", \"Geneva\",\n",
    "        \"Gentryville\", \"Georgetown\", \"Glenwood\", \"Goodland\", \"Goshen\", \"Gosport\", \"Grabill\",\n",
    "        \"Grandview\", \"Granger\", \"Greencastle\", \"Greendale\", \"Greenfield\", \"Greens Fork\",\n",
    "        \"Greensboro\", \"Greensburg\", \"Greentown\", \"Greenville\", \"Greenwood\", \"Griffin\",\n",
    "        \"Griffith\", \"Grissom AFB\", \"Hagerstown\", \"Hamilton\", \"Hamlet\", \"Hammond\", \"Hanna\",\n",
    "        \"Hanover\", \"Hardinsburg\", \"Harlan\", \"Harmony\", \"Harrodsburg\", \"Hartford City\",\n",
    "        \"Hartsville\", \"Hatfield\", \"Haubstadt\", \"Hayden\", \"Hazleton\", \"Hebron\", \"Henryville\",\n",
    "        \"Herbst\", \"Heritage Lake\", \"Hidden Valley\", \"Highland\", \"Hillsboro\", \"Hoagland\",\n",
    "        \"Hobart\", \"Holland\", \"Holton\", \"Homecroft\", \"Hope\", \"Howe\", \"Hudson\", \"Hudson Lake\",\n",
    "        \"Huntertown\", \"Huntingburg\", \"Huntington\", \"Hymera\", \"Idaville\", \"Indian Heights\",\n",
    "        \"Indian Village\", \"Indianapolis\", \"Ingalls\", \"Jalapa\", \"Jamestown\", \"Jasonville\",\n",
    "        \"Jasper\", \"Jeffersonville\", \"Jonesboro\", \"Jonesville\", \"Kempton\", \"Kendallville\",\n",
    "        \"Kennard\", \"Kent\", \"Kentland\", \"Kewanna\", \"Kimmell\", \"Kingman\", \"Kingsbury\",\n",
    "        \"Kingsford Heights\", \"Kirklin\", \"Knightstown\", \"Knightsville\", \"Knox\", \"Kokomo\",\n",
    "        \"Koontz Lake\", \"Kouts\", \"La Crosse\", \"La Fontaine\", \"La Paz\", \"La Porte\", \"Laconia\",\n",
    "        \"Ladoga\", \"Lafayette\", \"Lagrange\", \"Lagro\", \"Lake Dalecarlia\", \"Lake Holiday\",\n",
    "        \"Lake Santee\", \"Lake Station\", \"Lake Village\", \"Lakes of the Four Seasons\",\n",
    "        \"Laketon\", \"Lakeville\", \"Landess\", \"Lanesville\", \"Lapel\", \"Larwill\", \"Laurel\",\n",
    "        \"Lawrence\", \"Lawrenceburg\", \"Leavenworth\", \"Lebanon\", \"Leesburg\", \"Leo-Cedarville\",\n",
    "        \"Lewisville\", \"Liberty\", \"Ligonier\", \"Linden\", \"Linton\", \"Little York\", \"Livonia\",\n",
    "        \"Lizton\", \"Logansport\", \"Long Beach\", \"Loogootee\", \"Losantville\", \"Lowell\", \"Lynn\",\n",
    "        \"Lynnville\", \"Lyons\", \"Mackey\", \"Macy\", \"Madison\", \"Manilla\", \"Marengo\", \"Marion\",\n",
    "        \"Markle\", \"Markleville\", \"Marshall\", \"Martinsville\", \"Matthews\", \"Mauckport\",\n",
    "        \"McCordsville\", \"Mecca\", \"Medaryville\", \"Medora\", \"Mellott\", \"Melody Hill\",\n",
    "        \"Memphis\", \"Mentone\", \"Meridian Hills\", \"Merom\", \"Merrillville\", \"Metamora\", \"Mexico\",\n",
    "        \"Michiana Shores\", \"Michigan City\", \"Michigantown\", \"Middlebury\", \"Middletown\",\n",
    "        \"Mier\", \"Milan\", \"Milford\", \"Millersburg\", \"Millhousen\", \"Milltown\", \"Milroy\",\n",
    "        \"Milton\", \"Mishawaka\", \"Mitchell\", \"Modoc\", \"Monon\", \"Monroe\", \"Monroe City\",\n",
    "        \"Monroeville\", \"Monrovia\", \"Monterey\", \"Montezuma\", \"Montgomery\", \"Monticello\",\n",
    "        \"Montmorenci\", \"Montpelier\", \"Mooreland\", \"Moores Hill\", \"Mooresville\",\n",
    "        \"Morgantown\", \"Morocco\", \"Morristown\", \"Mount Auburn\", \"Mount Ayr\", \"Mount Carmel\",\n",
    "        \"Mount Etna\", \"Mount Summit\", \"Mount Vernon\", \"Mulberry\", \"Muncie\", \"Munster\",\n",
    "        \"Napoleon\", \"Nappanee\", \"Nashville\", \"New Albany\", \"New Amsterdam\", \"New Carlisle\",\n",
    "        \"New Castle\", \"New Chicago\", \"New Goshen\", \"New Harmony\", \"New Haven\", \"New Market\",\n",
    "        \"New Middletown\", \"New Palestine\", \"New Paris\", \"New Pekin\", \"New Point\", \"New Richmond\",\n",
    "        \"New Ross\", \"New Salisbury\", \"New Trenton\", \"New Washington\", \"New Whiteland\",\n",
    "        \"Newberry\", \"Newburgh\", \"Newport\", \"Niles\", \"North Anderson\", \"North Judson\",\n",
    "        \"North Liberty\", \"North Manchester\", \"North Salem\", \"North Vernon\", \"Northwood\",\n",
    "        \"Norris\", \"Norway\", \"Nappanee\", \"Nashville\", \"Oaktown\", \"Oden\", \"Odell\", \"Odon\",\n",
    "        \"Olin\", \"Onward\", \"Oolitic\", \"Orleans\", \"Ossian\", \"Otterbein\", \"Owen\", \"Parker\",\n",
    "        \"Parke County\", \"Pekin\", \"Pendleton\", \"Peru\", \"Petersburg\", \"Philo\", \"Pike\",\n",
    "        \"Plainfield\", \"Plymouth\", \"Poland\", \"Portage\", \"Porter\", \"Poseyville\", \"Princeton\",\n",
    "        \"Rensselaer\", \"Richmond\", \"Rising Sun\", \"Rochester\", \"Rockville\", \"Rome City\",\n",
    "        \"Rushville\", \"Sagamore\", \"Saint Bernice\", \"Saint John\", \"Saint Leon\", \"Saint Meinrad\",\n",
    "        \"Saint Paul\", \"Saint Peter\", \"Saint Thomas\", \"Salem\", \"Schererville\", \"Schneider\",\n",
    "        \"Scipio\", \"Shelbyville\", \"Sheridan\", \"Shirley\", \"Shoals\", \"Silverville\", \"Simmons\",\n",
    "        \"Sittingbourne\", \"South Bend\", \"Southport\", \"South Whitley\", \"Southwood\", \"Speed\",\n",
    "        \"Spencer\", \"Spooner\", \"Spring Grove\", \"Spring Hill\", \"Springville\", \"St. Joe\",\n",
    "        \"St. Paul\", \"St. Peter\", \"St. Thomas\", \"Stevenson\", \"Stilesville\", \"Stone City\",\n",
    "        \"Sullivan\", \"Sunman\", \"Switz City\", \"Tell City\", \"Terre Haute\", \"Thorntown\", \"Tipton\",\n",
    "        \"Topeka\", \"Trafford\", \"Trenton\", \"Union City\", \"Uniondale\", \"Upland\", \"Vallonia\",\n",
    "        \"Valparaiso\", \"Van Buren\", \"Vevay\", \"Vincennes\", \"Wabash\", \"Wakarusa\", \"Walton\",\n",
    "        \"Warren\", \"Warsaw\", \"Washington\", \"Waterloo\", \"Waveland\", \"Wawaka\", \"West Baden Springs\",\n",
    "        \"Westfield\", \"West Harrison\", \"West Lafayette\", \"Westville\", \"Whiteland\", \"Wickliffe\",\n",
    "        \"Winamac\", \"Winchester\", \"Winfield\", \"Woodburn\", \"Zanesville\", \"Zionsville\"\n",
    "]\n",
    "\n",
    "}"
   ]
  },
  {
   "cell_type": "code",
   "execution_count": 138,
   "metadata": {},
   "outputs": [],
   "source": [
    "def find_city(address):\n",
    "    if pd.isna(address):\n",
    "        return None  # Retorna None si la dirección es NaN\n",
    "    for state, cities in cities_dict.items():\n",
    "        for city in cities:\n",
    "            if city in address:\n",
    "                return city\n",
    "    return None\n",
    "\n",
    "# Función para asignar la ciudad a la columna 'city'\n",
    "def assign_city(df):\n",
    "    df['city'] = df['address'].apply(find_city)\n",
    "    return df\n",
    "\n",
    "google_states_reviews = assign_city(google_states_reviews)"
   ]
  },
  {
   "cell_type": "markdown",
   "metadata": {},
   "source": [
    "- Visualizamos el dataset"
   ]
  },
  {
   "cell_type": "code",
   "execution_count": 139,
   "metadata": {},
   "outputs": [
    {
     "data": {
      "text/html": [
       "<div>\n",
       "<style scoped>\n",
       "    .dataframe tbody tr th:only-of-type {\n",
       "        vertical-align: middle;\n",
       "    }\n",
       "\n",
       "    .dataframe tbody tr th {\n",
       "        vertical-align: top;\n",
       "    }\n",
       "\n",
       "    .dataframe thead th {\n",
       "        text-align: right;\n",
       "    }\n",
       "</style>\n",
       "<table border=\"1\" class=\"dataframe\">\n",
       "  <thead>\n",
       "    <tr style=\"text-align: right;\">\n",
       "      <th></th>\n",
       "      <th>user_id</th>\n",
       "      <th>rating</th>\n",
       "      <th>text</th>\n",
       "      <th>gmap_id</th>\n",
       "      <th>date</th>\n",
       "      <th>name</th>\n",
       "      <th>address</th>\n",
       "      <th>latitude</th>\n",
       "      <th>longitude</th>\n",
       "      <th>category</th>\n",
       "      <th>avg_rating</th>\n",
       "      <th>num_of_reviews</th>\n",
       "      <th>state</th>\n",
       "      <th>main_category</th>\n",
       "      <th>city</th>\n",
       "    </tr>\n",
       "  </thead>\n",
       "  <tbody>\n",
       "    <tr>\n",
       "      <th>34669</th>\n",
       "      <td>1.129518e+20</td>\n",
       "      <td>2</td>\n",
       "      <td>First and foremost, I will start this by sayin...</td>\n",
       "      <td>0x8626b74c5dd894ef:0x9e7bcc77baffcaed</td>\n",
       "      <td>2013-06-10</td>\n",
       "      <td>Phone Clinic</td>\n",
       "      <td>Phone Clinic, 17278 Airline Hwy, Prairieville,...</td>\n",
       "      <td>30.324303</td>\n",
       "      <td>-90.979335</td>\n",
       "      <td>Electronics repair shop Cell phone accessory s...</td>\n",
       "      <td>4.1</td>\n",
       "      <td>93</td>\n",
       "      <td>Louisiana</td>\n",
       "      <td>Others</td>\n",
       "      <td>Prairieville</td>\n",
       "    </tr>\n",
       "  </tbody>\n",
       "</table>\n",
       "</div>"
      ],
      "text/plain": [
       "            user_id  rating  \\\n",
       "34669  1.129518e+20       2   \n",
       "\n",
       "                                                    text  \\\n",
       "34669  First and foremost, I will start this by sayin...   \n",
       "\n",
       "                                     gmap_id        date          name  \\\n",
       "34669  0x8626b74c5dd894ef:0x9e7bcc77baffcaed  2013-06-10  Phone Clinic   \n",
       "\n",
       "                                                 address   latitude  \\\n",
       "34669  Phone Clinic, 17278 Airline Hwy, Prairieville,...  30.324303   \n",
       "\n",
       "       longitude                                           category  \\\n",
       "34669 -90.979335  Electronics repair shop Cell phone accessory s...   \n",
       "\n",
       "       avg_rating  num_of_reviews      state main_category          city  \n",
       "34669         4.1              93  Louisiana        Others  Prairieville  "
      ]
     },
     "execution_count": 139,
     "metadata": {},
     "output_type": "execute_result"
    }
   ],
   "source": [
    "google_states_reviews.sample()"
   ]
  },
  {
   "cell_type": "markdown",
   "metadata": {},
   "source": [
    "- Exportamos a parquet los archivos de los estados separados para luego analizarlos en eL <I>EDA</I>"
   ]
  },
  {
   "cell_type": "code",
   "execution_count": null,
   "metadata": {},
   "outputs": [],
   "source": [
    "indiana_sitios.to_parquet(\"../../Datasets/merge/indiana_sitios.parquet\", engine=\"pyarrow\")\n",
    "louisiana_sitios.to_parquet(\"../../Datasets/merge/louisiana_sitios.parquet\", engine=\"pyarrow\")"
   ]
  },
  {
   "cell_type": "markdown",
   "metadata": {},
   "source": [
    "- Exportamos los archivos unidos"
   ]
  },
  {
   "cell_type": "code",
   "execution_count": 142,
   "metadata": {},
   "outputs": [],
   "source": [
    "# Exportamos\n",
    "google_states_reviews.to_parquet(\"../../Datasets/merge/google_states_reviews\")"
   ]
  }
 ],
 "metadata": {
  "kernelspec": {
   "display_name": "Python 3",
   "language": "python",
   "name": "python3"
  },
  "language_info": {
   "codemirror_mode": {
    "name": "ipython",
    "version": 3
   },
   "file_extension": ".py",
   "mimetype": "text/x-python",
   "name": "python",
   "nbconvert_exporter": "python",
   "pygments_lexer": "ipython3",
   "version": "3.12.4"
  }
 },
 "nbformat": 4,
 "nbformat_minor": 2
}
