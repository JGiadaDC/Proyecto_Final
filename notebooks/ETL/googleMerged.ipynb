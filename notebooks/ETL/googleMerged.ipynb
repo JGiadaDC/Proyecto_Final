{
 "cells": [
  {
   "cell_type": "markdown",
   "metadata": {},
   "source": [
    "## Importar librerias a utilizar"
   ]
  },
  {
   "cell_type": "code",
   "execution_count": 13,
   "metadata": {},
   "outputs": [],
   "source": [
    "import pandas as pd"
   ]
  },
  {
   "cell_type": "markdown",
   "metadata": {},
   "source": [
    "## Lectura de los datos"
   ]
  },
  {
   "cell_type": "code",
   "execution_count": 3,
   "metadata": {},
   "outputs": [],
   "source": [
    "# Lectura de sitios dentro de Louisiana e Indiana (Google)\n",
    "sitios= pd.read_parquet(\"../../Datasets/final-ds/sitios_combined_full\") #Obtenido del archivo ETL/business_Google.ipynb\n",
    "\n",
    "# Reviews Indiana\n",
    "indiana= pd.read_parquet(\"../../Datasets/merge/ReviewIndiana\")  # Obtenido del archivo ETL/estados\n",
    "\n",
    "# Reviews Louisiana\n",
    "louisiana= pd.read_parquet(\"../../Datasets/merge/ReviewLouisiana\") # Obtenido del archivo ETL/estados"
   ]
  },
  {
   "cell_type": "markdown",
   "metadata": {},
   "source": [
    "- Realizamos la union de los sitios con los estados que correspondan"
   ]
  },
  {
   "cell_type": "code",
   "execution_count": 4,
   "metadata": {},
   "outputs": [],
   "source": [
    "indiana_sitios = indiana.merge(sitios,how=\"inner\",on=\"gmap_id\")\n",
    "louisiana_sitios = louisiana.merge(sitios,how=\"inner\",on=\"gmap_id\")"
   ]
  },
  {
   "cell_type": "markdown",
   "metadata": {},
   "source": [
    "- Observamos la cantidad de registros que quedaron en cada estado"
   ]
  },
  {
   "cell_type": "code",
   "execution_count": 16,
   "metadata": {},
   "outputs": [
    {
     "data": {
      "text/plain": [
       "((609940, 14), (1126351, 14))"
      ]
     },
     "execution_count": 16,
     "metadata": {},
     "output_type": "execute_result"
    }
   ],
   "source": [
    "louisiana_sitios.shape, indiana_sitios.shape"
   ]
  },
  {
   "cell_type": "markdown",
   "metadata": {},
   "source": [
    "- Chequeo de valores nulos"
   ]
  },
  {
   "cell_type": "code",
   "execution_count": 19,
   "metadata": {},
   "outputs": [
    {
     "data": {
      "text/plain": [
       "user_id                  0\n",
       "rating                   0\n",
       "text                280034\n",
       "gmap_id                  0\n",
       "date                     0\n",
       "name                     0\n",
       "address               1260\n",
       "latitude                 0\n",
       "longitude                0\n",
       "category               202\n",
       "avg_rating               0\n",
       "num_of_reviews           0\n",
       "relative_results     13953\n",
       "url                      0\n",
       "dtype: int64"
      ]
     },
     "execution_count": 19,
     "metadata": {},
     "output_type": "execute_result"
    }
   ],
   "source": [
    "louisiana_sitios.isna().sum()"
   ]
  },
  {
   "cell_type": "code",
   "execution_count": 49,
   "metadata": {},
   "outputs": [],
   "source": [
    "indiana_sitios = pd.read_parquet(\"../../Datasets/merge/indiana_sitios.parquet\")\n",
    "louisiana_sitios = pd.read_parquet(\"../../Datasets/merge/louisiana_sitios.parquet\")"
   ]
  },
  {
   "cell_type": "code",
   "execution_count": 7,
   "metadata": {},
   "outputs": [
    {
     "data": {
      "text/plain": [
       "user_id                  0\n",
       "rating                   0\n",
       "text                494064\n",
       "gmap_id                  0\n",
       "date                     0\n",
       "name                     0\n",
       "address               2735\n",
       "latitude                 0\n",
       "longitude                0\n",
       "category               468\n",
       "avg_rating               0\n",
       "num_of_reviews           0\n",
       "relative_results     30161\n",
       "url                      0\n",
       "dtype: int64"
      ]
     },
     "execution_count": 7,
     "metadata": {},
     "output_type": "execute_result"
    }
   ],
   "source": [
    "indiana_sitios.isna().sum()"
   ]
  },
  {
   "cell_type": "markdown",
   "metadata": {},
   "source": [
    "- Pasamos de `datetime` a `date`"
   ]
  },
  {
   "cell_type": "code",
   "execution_count": 5,
   "metadata": {},
   "outputs": [],
   "source": [
    "# Louisiana\n",
    "louisiana_sitios[\"date\"] = louisiana_sitios[\"date\"].dt.strftime(\"%Y-%m-%d\").astype(\"date64[pyarrow]\")\n",
    "\n",
    "#Indiana\n",
    "indiana_sitios[\"date\"] = indiana_sitios[\"date\"].dt.strftime(\"%Y-%m-%d\").astype(\"date64[pyarrow]\")"
   ]
  },
  {
   "cell_type": "markdown",
   "metadata": {},
   "source": [
    "- Rellenamos los valores nulos de la columna `category` y la transformamos en string. Esto nos servira para el Analisis Exploratorio de Datos"
   ]
  },
  {
   "cell_type": "code",
   "execution_count": 14,
   "metadata": {},
   "outputs": [],
   "source": [
    "louisiana_sitios.fillna({\"category\":\"[]\"},inplace=True)\n",
    "indiana_sitios.fillna({\"category\":\"[]\"},inplace=True)"
   ]
  },
  {
   "cell_type": "markdown",
   "metadata": {},
   "source": [
    "- Extraemos los primeros datos de la columna `category`"
   ]
  },
  {
   "cell_type": "code",
   "execution_count": 10,
   "metadata": {},
   "outputs": [],
   "source": [
    "indiana_sitios[\"first_category\"] = indiana_sitios[\"category\"].apply(lambda x: x[0] if len(x)>=1 else \"[]\")\n",
    "louisiana_sitios[\"first_category\"] = louisiana_sitios[\"category\"].apply(lambda x: x[0] if len(x)>=1 else \"[]\")"
   ]
  },
  {
   "cell_type": "code",
   "execution_count": 15,
   "metadata": {},
   "outputs": [],
   "source": [
    "# Transformamos a string\n",
    "louisiana_sitios[\"category\"] = louisiana_sitios[\"category\"].apply(lambda x: \" \".join(x) if len(x)>0 else \"\")"
   ]
  },
  {
   "cell_type": "code",
   "execution_count": 16,
   "metadata": {},
   "outputs": [],
   "source": [
    "indiana_sitios[\"category\"] = indiana_sitios[\"category\"].apply(lambda x: \" \".join(x) if len(x)>0 else \"\")"
   ]
  },
  {
   "cell_type": "markdown",
   "metadata": {},
   "source": [
    "- Filtramos para obtener una categoria principal"
   ]
  },
  {
   "cell_type": "code",
   "execution_count": 61,
   "metadata": {},
   "outputs": [],
   "source": [
    "def checkCategory(word):\n",
    "    if \"Hotel\" in word or \"hotel\" in word:\n",
    "        return \"Hotel\"\n",
    "    elif \"Restaurant\" in word or \"restaurant\" in word:\n",
    "        return \"Restaurant\"\n",
    "    else: return \"Otros\"\n",
    "    \n",
    "louisiana_sitios[\"main_category\"] = louisiana_sitios[\"category\"].apply(checkCategory)\n",
    "indiana_sitios[\"main_category\"] = louisiana_sitios[\"category\"].apply(checkCategory)"
   ]
  },
  {
   "cell_type": "markdown",
   "metadata": {},
   "source": [
    "- Realizamos un <i>merge</i> de las tablas para luego utilizar en la construccion de un `dashboard`"
   ]
  },
  {
   "cell_type": "code",
   "execution_count": 18,
   "metadata": {},
   "outputs": [],
   "source": [
    "# Asignamos una columna extra \"state\" para diferenciar de que estado estamos hablando\n",
    "louisiana_sitios[\"state\"] = \"Louisiana\"\n",
    "indiana_sitios[\"state\"] = \"Indiana\""
   ]
  },
  {
   "cell_type": "code",
   "execution_count": 19,
   "metadata": {},
   "outputs": [],
   "source": [
    "google_states_reviews = pd.concat([indiana_sitios,louisiana_sitios])"
   ]
  },
  {
   "cell_type": "code",
   "execution_count": 20,
   "metadata": {},
   "outputs": [
    {
     "data": {
      "text/html": [
       "<div>\n",
       "<style scoped>\n",
       "    .dataframe tbody tr th:only-of-type {\n",
       "        vertical-align: middle;\n",
       "    }\n",
       "\n",
       "    .dataframe tbody tr th {\n",
       "        vertical-align: top;\n",
       "    }\n",
       "\n",
       "    .dataframe thead th {\n",
       "        text-align: right;\n",
       "    }\n",
       "</style>\n",
       "<table border=\"1\" class=\"dataframe\">\n",
       "  <thead>\n",
       "    <tr style=\"text-align: right;\">\n",
       "      <th></th>\n",
       "      <th>user_id</th>\n",
       "      <th>rating</th>\n",
       "      <th>text</th>\n",
       "      <th>gmap_id</th>\n",
       "      <th>date</th>\n",
       "      <th>name</th>\n",
       "      <th>address</th>\n",
       "      <th>latitude</th>\n",
       "      <th>longitude</th>\n",
       "      <th>category</th>\n",
       "      <th>avg_rating</th>\n",
       "      <th>num_of_reviews</th>\n",
       "      <th>relative_results</th>\n",
       "      <th>url</th>\n",
       "      <th>first_category</th>\n",
       "      <th>state</th>\n",
       "    </tr>\n",
       "  </thead>\n",
       "  <tbody>\n",
       "    <tr>\n",
       "      <th>1060752</th>\n",
       "      <td>1.047858e+20</td>\n",
       "      <td>1</td>\n",
       "      <td>Terrible food, terrible drinks</td>\n",
       "      <td>0x886b53af68572a35:0xf11f3494b0d95582</td>\n",
       "      <td>2018-02-15</td>\n",
       "      <td>Old Pro's Table</td>\n",
       "      <td>Old Pro's Table, 827 Broad Ripple Ave, Indiana...</td>\n",
       "      <td>39.869564</td>\n",
       "      <td>-86.143949</td>\n",
       "      <td>Sports bar Bar Club Restaurant</td>\n",
       "      <td>4.2</td>\n",
       "      <td>168</td>\n",
       "      <td>[0x886b53a58c67f7ff:0xf615ee6a359aa05d, 0x886b...</td>\n",
       "      <td>https://www.google.com/maps/place//data=!4m2!3...</td>\n",
       "      <td>Sports bar</td>\n",
       "      <td>Indiana</td>\n",
       "    </tr>\n",
       "    <tr>\n",
       "      <th>894569</th>\n",
       "      <td>1.049584e+20</td>\n",
       "      <td>5</td>\n",
       "      <td>What an amazing place! I was in a wedding host...</td>\n",
       "      <td>0x886bb3a362b62d3f:0xb38e96c4c86d3bed</td>\n",
       "      <td>2020-01-16</td>\n",
       "      <td>Willow Lake Event Center</td>\n",
       "      <td>Willow Lake Event Center, 2130 W County Rd 200...</td>\n",
       "      <td>39.016134</td>\n",
       "      <td>-85.651866</td>\n",
       "      <td>Wedding venue Event venue</td>\n",
       "      <td>4.8</td>\n",
       "      <td>73</td>\n",
       "      <td>[0x886b97149489ef2f:0x2fb8eb7c527e4edf, 0x886b...</td>\n",
       "      <td>https://www.google.com/maps/place//data=!4m2!3...</td>\n",
       "      <td>Wedding venue</td>\n",
       "      <td>Indiana</td>\n",
       "    </tr>\n",
       "  </tbody>\n",
       "</table>\n",
       "</div>"
      ],
      "text/plain": [
       "              user_id  rating  \\\n",
       "1060752  1.047858e+20       1   \n",
       "894569   1.049584e+20       5   \n",
       "\n",
       "                                                      text  \\\n",
       "1060752                     Terrible food, terrible drinks   \n",
       "894569   What an amazing place! I was in a wedding host...   \n",
       "\n",
       "                                       gmap_id        date  \\\n",
       "1060752  0x886b53af68572a35:0xf11f3494b0d95582  2018-02-15   \n",
       "894569   0x886bb3a362b62d3f:0xb38e96c4c86d3bed  2020-01-16   \n",
       "\n",
       "                             name  \\\n",
       "1060752           Old Pro's Table   \n",
       "894569   Willow Lake Event Center   \n",
       "\n",
       "                                                   address   latitude  \\\n",
       "1060752  Old Pro's Table, 827 Broad Ripple Ave, Indiana...  39.869564   \n",
       "894569   Willow Lake Event Center, 2130 W County Rd 200...  39.016134   \n",
       "\n",
       "         longitude                        category  avg_rating  \\\n",
       "1060752 -86.143949  Sports bar Bar Club Restaurant         4.2   \n",
       "894569  -85.651866       Wedding venue Event venue         4.8   \n",
       "\n",
       "         num_of_reviews                                   relative_results  \\\n",
       "1060752             168  [0x886b53a58c67f7ff:0xf615ee6a359aa05d, 0x886b...   \n",
       "894569               73  [0x886b97149489ef2f:0x2fb8eb7c527e4edf, 0x886b...   \n",
       "\n",
       "                                                       url first_category  \\\n",
       "1060752  https://www.google.com/maps/place//data=!4m2!3...     Sports bar   \n",
       "894569   https://www.google.com/maps/place//data=!4m2!3...  Wedding venue   \n",
       "\n",
       "           state  \n",
       "1060752  Indiana  \n",
       "894569   Indiana  "
      ]
     },
     "execution_count": 20,
     "metadata": {},
     "output_type": "execute_result"
    }
   ],
   "source": [
    "google_states_reviews.sample(2)"
   ]
  },
  {
   "cell_type": "code",
   "execution_count": 64,
   "metadata": {},
   "outputs": [],
   "source": [
    "# Exportamos\n",
    "google_states_reviews.to_parquet(\"../../Datasets/merge/google_states_reviews\")"
   ]
  },
  {
   "cell_type": "code",
   "execution_count": 26,
   "metadata": {},
   "outputs": [
    {
     "data": {
      "text/plain": [
       "array(['Security guard service', 'Entertainer', 'Pharmacy', ...,\n",
       "       'Diamond dealer', 'European restaurant', 'Tattoo artist'],\n",
       "      dtype=object)"
      ]
     },
     "execution_count": 26,
     "metadata": {},
     "output_type": "execute_result"
    }
   ],
   "source": [
    "google_states_reviews[\"first_category\"].unique()"
   ]
  },
  {
   "cell_type": "markdown",
   "metadata": {},
   "source": [
    "- Exportamos a parquet los archivos de los estados separados para luego analizarlos en eL <I>EDA</I>"
   ]
  },
  {
   "cell_type": "code",
   "execution_count": 33,
   "metadata": {},
   "outputs": [],
   "source": [
    "indiana_sitios.to_parquet(\"../../Datasets/merge/indiana_sitios.parquet\", engine=\"pyarrow\")\n",
    "louisiana_sitios.to_parquet(\"../../Datasets/merge/louisiana_sitios.parquet\", engine=\"pyarrow\")"
   ]
  }
 ],
 "metadata": {
  "kernelspec": {
   "display_name": "Python 3",
   "language": "python",
   "name": "python3"
  },
  "language_info": {
   "codemirror_mode": {
    "name": "ipython",
    "version": 3
   },
   "file_extension": ".py",
   "mimetype": "text/x-python",
   "name": "python",
   "nbconvert_exporter": "python",
   "pygments_lexer": "ipython3",
   "version": "3.12.3"
  }
 },
 "nbformat": 4,
 "nbformat_minor": 2
}
