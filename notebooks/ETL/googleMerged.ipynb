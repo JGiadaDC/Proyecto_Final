{
 "cells": [
  {
   "cell_type": "markdown",
   "metadata": {},
   "source": [
    "## Importar librerias a utilizar"
   ]
  },
  {
   "cell_type": "code",
   "execution_count": 2,
   "metadata": {},
   "outputs": [],
   "source": [
    "import pandas as pd"
   ]
  },
  {
   "cell_type": "markdown",
   "metadata": {},
   "source": [
    "## Lectura de los datos"
   ]
  },
  {
   "cell_type": "code",
   "execution_count": 3,
   "metadata": {},
   "outputs": [],
   "source": [
    "# Lectura de sitios dentro de Louisiana e Indiana\n",
    "sitios= pd.read_parquet(\"../../Datasets/final-ds/sitios_combined_full\") #Obtenido del archivo EDA/business_Google.ipynb\n",
    "\n",
    "# Reviews Indiana\n",
    "indiana= pd.read_parquet(\"../../Datasets/merge/ReviewIndiana\")  # Obtenido del archivo EDA/estados\n",
    "\n",
    "# Reviews Louisiana\n",
    "louisiana= pd.read_parquet(\"../../Datasets/merge/ReviewLouisiana\") # Obtenido del archivo EDA/estados"
   ]
  },
  {
   "cell_type": "markdown",
   "metadata": {},
   "source": [
    "- Realizamos la union de los sitios con los estados que correspondan"
   ]
  },
  {
   "cell_type": "code",
   "execution_count": 4,
   "metadata": {},
   "outputs": [],
   "source": [
    "indiana_sitios = indiana.merge(sitios,how=\"inner\",on=\"gmap_id\")\n",
    "louisiana_sitios = louisiana.merge(sitios,how=\"inner\",on=\"gmap_id\")"
   ]
  },
  {
   "cell_type": "markdown",
   "metadata": {},
   "source": [
    "- Exportamos a parquet"
   ]
  },
  {
   "cell_type": "code",
   "execution_count": 12,
   "metadata": {},
   "outputs": [],
   "source": [
    "indiana_sitios.to_parquet(\"../../Datasets/merge/indiana_sitios.parquet\", engine=\"pyarrow\")\n",
    "louisiana_sitios.to_parquet(\"../../Datasets/merge/louisiana_sitios.parquet\", engine=\"pyarrow\")"
   ]
  },
  {
   "cell_type": "code",
   "execution_count": 16,
   "metadata": {},
   "outputs": [],
   "source": [
    "louisiana_sitios = pd.read_parquet(\"../../Datasets/merge/louisiana_sitios.parquet\")\n",
    "indiana_sitios = pd.read_parquet(\"../../Datasets/merge/indiana_sitios.parquet\")"
   ]
  },
  {
   "cell_type": "markdown",
   "metadata": {},
   "source": [
    "- Realizamos la copia de los archivos para prevenir posibles errores"
   ]
  },
  {
   "cell_type": "code",
   "execution_count": null,
   "metadata": {},
   "outputs": [],
   "source": [
    "louisiana_sitios_copy = louisiana_sitios.copy()\n",
    "indiana_sitios_copy = indiana_sitios.copy()"
   ]
  },
  {
   "cell_type": "markdown",
   "metadata": {},
   "source": [
    "- Rellenamos los valores nulos"
   ]
  },
  {
   "cell_type": "code",
   "execution_count": 6,
   "metadata": {},
   "outputs": [],
   "source": [
    "louisiana_sitios.fillna({\"category\":\"[]\"},inplace=True)\n",
    "indiana_sitios.fillna({\"category\":\"[]\"},inplace=True)"
   ]
  },
  {
   "cell_type": "code",
   "execution_count": 7,
   "metadata": {},
   "outputs": [],
   "source": [
    "louisiana_sitios[\"category\"] = louisiana_sitios[\"category\"].apply(lambda x: \" \".join(x) if len(x)>0 else \"\")"
   ]
  },
  {
   "cell_type": "code",
   "execution_count": 9,
   "metadata": {},
   "outputs": [],
   "source": [
    "indiana_sitios[\"category\"] = indiana_sitios[\"category\"].apply(lambda x: \" \".join(x) if len(x)>0 else \"\")"
   ]
  },
  {
   "cell_type": "code",
   "execution_count": null,
   "metadata": {},
   "outputs": [],
   "source": [
    "\n",
    "hotel_la = louisiana_sitios_copy[louisiana_sitios_copy[\"category\"].str.contains(\"hotel|Hotel\")]\n",
    "hotel_in = indiana_sitios_copy[indiana_sitios_copy[\"category\"].str.contains(\"hotel|Hotel\")]\n"
   ]
  }
 ],
 "metadata": {
  "kernelspec": {
   "display_name": "Python 3",
   "language": "python",
   "name": "python3"
  },
  "language_info": {
   "codemirror_mode": {
    "name": "ipython",
    "version": 3
   },
   "file_extension": ".py",
   "mimetype": "text/x-python",
   "name": "python",
   "nbconvert_exporter": "python",
   "pygments_lexer": "ipython3",
   "version": "3.12.3"
  }
 },
 "nbformat": 4,
 "nbformat_minor": 2
}
