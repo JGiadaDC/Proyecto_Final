{
 "cells": [
  {
   "cell_type": "code",
   "execution_count": 3,
   "metadata": {},
   "outputs": [],
   "source": [
    "from google.cloud import bigquery\n",
    "from google.cloud import storage\n",
    "import pandas as pd"
   ]
  },
  {
   "cell_type": "code",
   "execution_count": 11,
   "metadata": {},
   "outputs": [
    {
     "name": "stdout",
     "output_type": "stream",
     "text": [
      "Creando la tabla turismo_emergente.Yelp a partir del archivo data-were-house/business_reviews.parquet\n",
      "Carga exitosa\n"
     ]
    }
   ],
   "source": [
    "bucket_name = 'data-were-house'\n",
    "archive_path = '/business_reviews.parquet'\n",
    "bigquery_table = 'turismo_emergente.Yelp'\n",
    "\n",
    "print(f\"Creando la tabla {bigquery_table} a partir del archivo {bucket_name}{archive_path}\")\n",
    "\n",
    "# Inicializa el cliente de BigQuery\n",
    "client = bigquery.Client(project='cosmic-carving-431013-c0')\n",
    "\n",
    "# Configuración del trabajo de carga\n",
    "job_config = bigquery.LoadJobConfig(\n",
    "    source_format=bigquery.SourceFormat.PARQUET,\n",
    "    autodetect=True  # Automatically infer schema   \n",
    "\n",
    ")\n",
    "\n",
    "uri = f\"gs://{bucket_name}{archive_path}\"\n",
    "\n",
    "try:\n",
    "    load_job = client.load_table_from_uri(\n",
    "        uri, bigquery_table, job_config=job_config\n",
    "    )  # Make an API request.\n",
    "    load_job.result()  # Wait for the job to complete.\n",
    "    print(\"Carga exitosa\")\n",
    "except Exception as e:\n",
    "    print(f\"Error durante la carga: {e}\")"
   ]
  },
  {
   "cell_type": "code",
   "execution_count": 10,
   "metadata": {},
   "outputs": [
    {
     "name": "stdout",
     "output_type": "stream",
     "text": [
      "Creando la tabla turismo_emergente.indiana a partir del archivo data-were-house/metadata_sitios_indiana.parquet\n",
      "Carga exitosa\n"
     ]
    }
   ],
   "source": [
    "bucket_name = 'data-were-house'\n",
    "archive_path = '/metadata_sitios_indiana.parquet'\n",
    "bigquery_table = 'turismo_emergente.indiana'\n",
    "\n",
    "print(f\"Creando la tabla {bigquery_table} a partir del archivo {bucket_name}{archive_path}\")\n",
    "\n",
    "# Inicializa el cliente de BigQuery\n",
    "client = bigquery.Client(project='cosmic-carving-431013-c0')\n",
    "\n",
    "# Configuración del trabajo de carga\n",
    "job_config = bigquery.LoadJobConfig(\n",
    "    source_format=bigquery.SourceFormat.PARQUET,\n",
    "    autodetect=True  # Automatically infer schema   \n",
    "\n",
    ")\n",
    "\n",
    "uri = f\"gs://{bucket_name}{archive_path}\"\n",
    "\n",
    "try:\n",
    "    load_job = client.load_table_from_uri(\n",
    "        uri, bigquery_table, job_config=job_config\n",
    "    )  # Make an API request.\n",
    "    load_job.result()  # Wait for the job to complete.\n",
    "    print(\"Carga exitosa\")\n",
    "except Exception as e:\n",
    "    print(f\"Error durante la carga: {e}\")"
   ]
  },
  {
   "cell_type": "code",
   "execution_count": 9,
   "metadata": {},
   "outputs": [
    {
     "name": "stdout",
     "output_type": "stream",
     "text": [
      "Creando la tabla turismo_emergente.louisiana a partir del archivo data-were-house/metadata_sitios_louisiana.parquet\n",
      "Carga exitosa\n"
     ]
    }
   ],
   "source": [
    "bucket_name = 'data-were-house'\n",
    "archive_path = '/metadata_sitios_louisiana.parquet'\n",
    "bigquery_table = 'turismo_emergente.louisiana'\n",
    "\n",
    "print(f\"Creando la tabla {bigquery_table} a partir del archivo {bucket_name}{archive_path}\")\n",
    "\n",
    "# Inicializa el cliente de BigQuery\n",
    "client = bigquery.Client(project='cosmic-carving-431013-c0')\n",
    "\n",
    "# Configuración del trabajo de carga\n",
    "job_config = bigquery.LoadJobConfig(\n",
    "    source_format=bigquery.SourceFormat.PARQUET,\n",
    "    autodetect=True  # Automatically infer schema   \n",
    "\n",
    ")\n",
    "\n",
    "uri = f\"gs://{bucket_name}{archive_path}\"\n",
    "\n",
    "try:\n",
    "    load_job = client.load_table_from_uri(\n",
    "        uri, bigquery_table, job_config=job_config\n",
    "    )  # Make an API request.\n",
    "    load_job.result()  # Wait for the job to complete.\n",
    "    print(\"Carga exitosa\")\n",
    "except Exception as e:\n",
    "    print(f\"Error durante la carga: {e}\")"
   ]
  }
 ],
 "metadata": {
  "kernelspec": {
   "display_name": "Python 3",
   "language": "python",
   "name": "python3"
  },
  "language_info": {
   "codemirror_mode": {
    "name": "ipython",
    "version": 3
   },
   "file_extension": ".py",
   "mimetype": "text/x-python",
   "name": "python",
   "nbconvert_exporter": "python",
   "pygments_lexer": "ipython3",
   "version": "3.12.3"
  }
 },
 "nbformat": 4,
 "nbformat_minor": 2
}
